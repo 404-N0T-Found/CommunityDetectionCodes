{
 "cells": [
  {
   "cell_type": "code",
   "execution_count": 1,
   "metadata": {
    "collapsed": false
   },
   "outputs": [
    {
     "name": "stderr",
     "output_type": "stream",
     "text": [
      "/home/cheyulin/anaconda2/lib/python2.7/site-packages/graph_tool/draw/cairo_draw.py:1480: RuntimeWarning: Error importing Gtk module: No module named gi; GTK+ drawing will not work.\n",
      "  warnings.warn(msg, RuntimeWarning)\n"
     ]
    }
   ],
   "source": [
    "import graph_tool.all as gt\n",
    "import math\n",
    "import numpy as np"
   ]
  },
  {
   "cell_type": "code",
   "execution_count": 2,
   "metadata": {
    "collapsed": true
   },
   "outputs": [],
   "source": [
    "pv = None"
   ]
  },
  {
   "cell_type": "code",
   "execution_count": 9,
   "metadata": {
    "collapsed": false
   },
   "outputs": [
    {
     "name": "stdout",
     "output_type": "stream",
     "text": [
      "('num v:', 34)\n",
      "('Change in description length:', -82.64494213810974)\n",
      "('Number of accepted vertex moves:', 5909)\n",
      "<PropertyMap object with key type 'Vertex' and value type 'vector<double>', for Graph 0x7fa634eb7950, at 0x7fa634eb7b90>\n"
     ]
    },
    {
     "data": {
      "text/plain": [
       "<PropertyMap object with key type 'Vertex' and value type 'vector<double>', for Graph 0x7fa634eb7950, at 0x7fa634eb7b90>"
      ]
     },
     "execution_count": 9,
     "metadata": {},
     "output_type": "execute_result"
    }
   ],
   "source": [
    "g = gt.collection.data[\"karate\"]\n",
    "\n",
    "state = gt.BlockState(g, B=20)\n",
    "\n",
    "print('num v:', g.num_vertices())\n",
    "state = state.copy(B=g.num_vertices())\n",
    "dS, nmoves = state.mcmc_sweep(niter=1000)\n",
    "print(\"Change in description length:\", dS)\n",
    "print(\"Number of accepted vertex moves:\", nmoves)\n",
    "gt.mcmc_equilibrate(state, wait=1000, mcmc_args=dict(niter=10))\n",
    "\n",
    "\n",
    "def collect_marginals(s):\n",
    "    global pv\n",
    "    pv = s.collect_vertex_marginals(pv)\n",
    "\n",
    "\n",
    "gt.mcmc_equilibrate(state, force_niter=10000, mcmc_args=dict(niter=10),\n",
    "                    callback=collect_marginals)\n",
    "print(g.vp.pos)\n",
    "# Now the node marginals are stored in property map pv. We can\n",
    "# visualize them as pie charts on the nodes:\n",
    "state.draw(pos=g.vp.pos, vertex_text=g.vertex_index, vertex_shape=\"pie\", vertex_pie_fractions=pv, \n",
    "           edge_gradient=None, output=\"karate-sbm-marginals.pdf\")\n"
   ]
  },
  {
   "cell_type": "code",
   "execution_count": null,
   "metadata": {
    "collapsed": true
   },
   "outputs": [],
   "source": []
  }
 ],
 "metadata": {
  "kernelspec": {
   "display_name": "Python 2",
   "language": "python",
   "name": "python2"
  },
  "language_info": {
   "codemirror_mode": {
    "name": "ipython",
    "version": 2
   },
   "file_extension": ".py",
   "mimetype": "text/x-python",
   "name": "python",
   "nbconvert_exporter": "python",
   "pygments_lexer": "ipython2",
   "version": "2.7.13"
  }
 },
 "nbformat": 4,
 "nbformat_minor": 0
}
