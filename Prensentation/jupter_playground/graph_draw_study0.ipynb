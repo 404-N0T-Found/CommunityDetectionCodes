{
 "cells": [
  {
   "cell_type": "code",
   "execution_count": 30,
   "metadata": {
    "collapsed": false
   },
   "outputs": [],
   "source": [
    "import graph_tool.all as gt\n",
    "import math\n",
    "import numpy as np"
   ]
  },
  {
   "cell_type": "code",
   "execution_count": 2,
   "metadata": {
    "collapsed": false
   },
   "outputs": [
    {
     "data": {
      "text/plain": [
       "<PropertyMap object with key type 'Vertex' and value type 'vector<double>', for Graph 0x7f5d213ca510, at 0x7f5d213c7b50>"
      ]
     },
     "execution_count": 2,
     "metadata": {},
     "output_type": "execute_result"
    }
   ],
   "source": [
    "g = gt.price_network(1000)\n",
    "pos = gt.radial_tree_layout(g, g.vertex(0))\n",
    "gt.graph_draw(g, pos=pos, output=\"graph-draw-radial.png\")    "
   ]
  },
  {
   "cell_type": "code",
   "execution_count": 19,
   "metadata": {
    "collapsed": false
   },
   "outputs": [
    {
     "name": "stdout",
     "output_type": "stream",
     "text": [
      "(<class 'graph_tool.PropertyMap'>, <class 'graph_tool.PropertyArray'>)\n"
     ]
    }
   ],
   "source": [
    "g = gt.price_network(1500)\n",
    "deg = g.degree_property_map(\"in\")\n",
    "print(type(deg),type(deg.a))"
   ]
  },
  {
   "cell_type": "code",
   "execution_count": 31,
   "metadata": {
    "collapsed": false
   },
   "outputs": [],
   "source": [
    "deg.a = 4 * (np.sqrt(deg.a) * 0.5 + 0.4)\n",
    "ebet = gt.betweenness(g)[1]\n",
    "ebet.a /= ebet.a.max() / 10.\n",
    "eorder = ebet.copy()\n",
    "eorder.a *= -1"
   ]
  },
  {
   "cell_type": "code",
   "execution_count": 33,
   "metadata": {
    "collapsed": false
   },
   "outputs": [],
   "source": [
    "pos = gt.sfdp_layout(g)\n",
    "control = g.new_edge_property(\"vector<double>\")\n",
    "for e in g.edges():\n",
    "    d = math.sqrt(sum((pos[e.source()].a - pos[e.target()].a) ** 2)) / 5\n",
    "    control[e] = [0.3, d, 0.7, d]"
   ]
  },
  {
   "cell_type": "code",
   "execution_count": 34,
   "metadata": {
    "collapsed": false
   },
   "outputs": [
    {
     "data": {
      "text/plain": [
       "<PropertyMap object with key type 'Vertex' and value type 'vector<double>', for Graph 0x7f5d1ed75550, at 0x7f5d1ecb5690>"
      ]
     },
     "execution_count": 34,
     "metadata": {},
     "output_type": "execute_result"
    }
   ],
   "source": [
    "gt.graph_draw(g, pos=pos, vertex_size=deg, vertex_fill_color=deg, vorder=deg, \\\n",
    "             edge_color=ebet, eorder=eorder, edge_pen_width=ebet, \\\n",
    "              edge_control_points=control, output=\"graph-draw.pdf\")"
   ]
  },
  {
   "cell_type": "code",
   "execution_count": 27,
   "metadata": {
    "collapsed": false
   },
   "outputs": [
    {
     "name": "stdout",
     "output_type": "stream",
     "text": [
      "None\n"
     ]
    }
   ],
   "source": [
    "print g.list_properties()"
   ]
  },
  {
   "cell_type": "code",
   "execution_count": null,
   "metadata": {
    "collapsed": true
   },
   "outputs": [],
   "source": []
  }
 ],
 "metadata": {
  "kernelspec": {
   "display_name": "Python 2",
   "language": "python",
   "name": "python2"
  },
  "language_info": {
   "codemirror_mode": {
    "name": "ipython",
    "version": 2
   },
   "file_extension": ".py",
   "mimetype": "text/x-python",
   "name": "python",
   "nbconvert_exporter": "python",
   "pygments_lexer": "ipython2",
   "version": "2.7.13"
  }
 },
 "nbformat": 4,
 "nbformat_minor": 0
}
